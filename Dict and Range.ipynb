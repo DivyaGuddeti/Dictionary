{
 "cells": [
  {
   "cell_type": "code",
   "execution_count": 1,
   "id": "10455168-f41b-47c8-8d5c-887b53f6147d",
   "metadata": {},
   "outputs": [],
   "source": [
    "# Sai Ram"
   ]
  },
  {
   "cell_type": "code",
   "execution_count": 2,
   "id": "8c7de138-1dc9-4d9a-beca-5e64b680787b",
   "metadata": {},
   "outputs": [],
   "source": [
    "# Sai Ram"
   ]
  },
  {
   "cell_type": "code",
   "execution_count": 3,
   "id": "971df5c4-8260-4bfc-8611-901b00281a15",
   "metadata": {},
   "outputs": [],
   "source": [
    "# Sai Ram"
   ]
  },
  {
   "cell_type": "markdown",
   "id": "bb896ca5-04af-4a9f-8052-263b3552dc47",
   "metadata": {},
   "source": [
    "# Dictionary"
   ]
  },
  {
   "cell_type": "code",
   "execution_count": 31,
   "id": "7df0ec91-34ee-46a9-88ec-09303de7cc8f",
   "metadata": {},
   "outputs": [
    {
     "data": {
      "text/plain": [
       "dict"
      ]
     },
     "execution_count": 31,
     "metadata": {},
     "output_type": "execute_result"
    }
   ],
   "source": [
    "d = {} # by default, {} defines an empty dict \n",
    "type(d)"
   ]
  },
  {
   "cell_type": "code",
   "execution_count": 32,
   "id": "49bf8195-2d38-4c9c-b36b-63085b3b7d86",
   "metadata": {},
   "outputs": [],
   "source": [
    "d = {1 : \"One\", 2 : \"Two\", 3 : \"Three\", 4 : \"Four\"} # Dict is a combination of key-value pair ..ex: 1kg Mango ->50rs, 1kg Apple -> 60rs"
   ]
  },
  {
   "cell_type": "code",
   "execution_count": 12,
   "id": "3a860469-558f-46cc-bdd0-46d03dbb9abb",
   "metadata": {},
   "outputs": [
    {
     "data": {
      "text/plain": [
       "{1: 'One', 2: 'Two', 3: 'Three', 4: 'Four'}"
      ]
     },
     "execution_count": 12,
     "metadata": {},
     "output_type": "execute_result"
    }
   ],
   "source": [
    "d # keys has more priority than values and keys should be unique"
   ]
  },
  {
   "cell_type": "code",
   "execution_count": 13,
   "id": "6630abe2-cec0-48b5-b290-4f6141151409",
   "metadata": {},
   "outputs": [
    {
     "data": {
      "text/plain": [
       "dict"
      ]
     },
     "execution_count": 13,
     "metadata": {},
     "output_type": "execute_result"
    }
   ],
   "source": [
    "type(d)"
   ]
  },
  {
   "cell_type": "code",
   "execution_count": 28,
   "id": "5a2cfce2-07a8-45a0-9b5b-194922aa6d2c",
   "metadata": {},
   "outputs": [
    {
     "data": {
      "text/plain": [
       "{1: 'Amma', 2: 'Baba', 3: 'Divya'}"
      ]
     },
     "execution_count": 28,
     "metadata": {},
     "output_type": "execute_result"
    }
   ],
   "source": [
    "d1 = dict({1:\"Amma\", 2:\"Baba\", 3:\"Sai\", 3:\"Divya\"})\n",
    "d1"
   ]
  },
  {
   "cell_type": "code",
   "execution_count": 36,
   "id": "ac9033b0-8744-461c-bb5e-1447737a041f",
   "metadata": {},
   "outputs": [
    {
     "data": {
      "text/plain": [
       "{'A': 'one', 'B': 'Two', 'C': 'Three', 4: 'Four'}"
      ]
     },
     "execution_count": 36,
     "metadata": {},
     "output_type": "execute_result"
    }
   ],
   "source": [
    "d2 = dict({'A' : \"one\", 'B': \"Two\", 'C' : \"Three\", 4 : \"Four\"}) # we can define keys and values by either digits or alphabets\n",
    "d2"
   ]
  },
  {
   "cell_type": "code",
   "execution_count": 46,
   "id": "284ea2cf-1997-4539-8696-31007c65a3af",
   "metadata": {},
   "outputs": [
    {
     "data": {
      "text/plain": [
       "{1: 1, 2: 'Amma', 3: 10, 4: 60}"
      ]
     },
     "execution_count": 46,
     "metadata": {},
     "output_type": "execute_result"
    }
   ],
   "source": [
    "d3 = {1 : 1, 2 : \"Amma\", 3 : 10, 4 : 60} # we can combination of alphabets and digits to define keys and values in a dict\n",
    "d3"
   ]
  },
  {
   "cell_type": "code",
   "execution_count": 47,
   "id": "f80bdadb-0ef3-4f0b-a27d-483eb9a968b6",
   "metadata": {},
   "outputs": [
    {
     "data": {
      "text/plain": [
       "dict_keys([1, 2, 3, 4])"
      ]
     },
     "execution_count": 47,
     "metadata": {},
     "output_type": "execute_result"
    }
   ],
   "source": [
    "d.keys() # keys() function will return only the keys present in the dictionary "
   ]
  },
  {
   "cell_type": "code",
   "execution_count": 48,
   "id": "ff2d8658-bcc1-4887-8691-d3836b8af6c5",
   "metadata": {},
   "outputs": [
    {
     "data": {
      "text/plain": [
       "dict_values(['Ten', 'Two', 'Three', 'Four'])"
      ]
     },
     "execution_count": 48,
     "metadata": {},
     "output_type": "execute_result"
    }
   ],
   "source": [
    "d.values() # values() function will return the values in the dictionary"
   ]
  },
  {
   "cell_type": "code",
   "execution_count": 49,
   "id": "a6741985-2f51-48fa-938b-2c04cea1942c",
   "metadata": {},
   "outputs": [
    {
     "data": {
      "text/plain": [
       "dict_items([(1, 'Amma'), (2, 'Baba'), (3, 'Divya')])"
      ]
     },
     "execution_count": 49,
     "metadata": {},
     "output_type": "execute_result"
    }
   ],
   "source": [
    "d1.items() # items() function will return combination of key-value pair"
   ]
  },
  {
   "cell_type": "code",
   "execution_count": 50,
   "id": "df3099eb-091c-4a7f-9e7c-570926cdda0a",
   "metadata": {},
   "outputs": [
    {
     "data": {
      "text/plain": [
       "3"
      ]
     },
     "execution_count": 50,
     "metadata": {},
     "output_type": "execute_result"
    }
   ],
   "source": [
    "len(d1) # returns the number of keys in the dict"
   ]
  },
  {
   "cell_type": "code",
   "execution_count": 51,
   "id": "70bde361-5f44-41d4-8a64-32afc480619e",
   "metadata": {},
   "outputs": [
    {
     "data": {
      "text/plain": [
       "{1: 'Ten', 2: 'Two', 3: 'Three', 4: 'Four'}"
      ]
     },
     "execution_count": 51,
     "metadata": {},
     "output_type": "execute_result"
    }
   ],
   "source": [
    "d[1] = \"Ten\" # Dict is mutable, values can be modified dynamically (here 1 is the key)\n",
    "d"
   ]
  },
  {
   "cell_type": "code",
   "execution_count": 52,
   "id": "9972821b-bf9c-4755-bd25-df4f21ce4f85",
   "metadata": {},
   "outputs": [
    {
     "ename": "KeyError",
     "evalue": "7",
     "output_type": "error",
     "traceback": [
      "\u001b[1;31m---------------------------------------------------------------------------\u001b[0m",
      "\u001b[1;31mKeyError\u001b[0m                                  Traceback (most recent call last)",
      "Cell \u001b[1;32mIn[52], line 1\u001b[0m\n\u001b[1;32m----> 1\u001b[0m d3[\u001b[38;5;241m7\u001b[39m]\n",
      "\u001b[1;31mKeyError\u001b[0m: 7"
     ]
    }
   ],
   "source": [
    "d3[7] # we should pass the key as argument, as d3 doesn't have 7 as key, it returns an error"
   ]
  },
  {
   "cell_type": "code",
   "execution_count": 71,
   "id": "15941211-76e1-49fb-a7e4-1891714937e2",
   "metadata": {},
   "outputs": [
    {
     "data": {
      "text/plain": [
       "'Two'"
      ]
     },
     "execution_count": 71,
     "metadata": {},
     "output_type": "execute_result"
    }
   ],
   "source": [
    "d2[\"B\"]"
   ]
  },
  {
   "cell_type": "code",
   "execution_count": 72,
   "id": "b6f9eb7a-d364-47f3-aeba-f4881227e4a2",
   "metadata": {},
   "outputs": [
    {
     "data": {
      "text/plain": [
       "{1: 1, 2: 2, 'Amma': ['Sai', 'Divya', 'Ram'], 'D': (1, 2, 3)}"
      ]
     },
     "execution_count": 72,
     "metadata": {},
     "output_type": "execute_result"
    }
   ],
   "source": [
    "d4 = {1:1, 2:2, \"Amma\":[\"Sai\",\"Divya\",\"Ram\"],'D':(1,2,3)} # Any data type can be defined inside a dict\n",
    "d4"
   ]
  },
  {
   "cell_type": "code",
   "execution_count": 73,
   "id": "148d4049-971a-42fa-83f6-39e80d4beba1",
   "metadata": {},
   "outputs": [
    {
     "data": {
      "text/plain": [
       "{1: 1, 2: 2, 'Amma': {'Name': 'Divya', 'Age': 30}, 'D': (1, 2, 3)}"
      ]
     },
     "execution_count": 73,
     "metadata": {},
     "output_type": "execute_result"
    }
   ],
   "source": [
    "d4 = {1:1, 2:2, \"Amma\":{\"Name\":\"Divya\", \"Age\":30},'D':(1,2,3)} # dict is mutable and we can change the values anytime\n",
    "d4"
   ]
  },
  {
   "cell_type": "code",
   "execution_count": 74,
   "id": "9f4f9c60-bc67-4989-a5de-0ef573f682f9",
   "metadata": {},
   "outputs": [
    {
     "data": {
      "text/plain": [
       "{'ten': 1, 2: 2, 'Amma': {'Name': 'Divya', 'Age': 30}, 'D': (1, 2, 3)}"
      ]
     },
     "execution_count": 74,
     "metadata": {},
     "output_type": "execute_result"
    }
   ],
   "source": [
    "d4 = {'ten':1,2:2, \"Amma\":{\"Name\":\"Divya\", \"Age\":30},'D':(1,2,3)} # we change the key by re-defining the whole dict\n",
    "d4"
   ]
  },
  {
   "cell_type": "code",
   "execution_count": 75,
   "id": "d113d938-39ca-4232-8a89-ba65b22b8497",
   "metadata": {},
   "outputs": [
    {
     "data": {
      "text/plain": [
       "{1: [1, 2, 3, 4],\n",
       " 2: (6, 7, 8, 9),\n",
       " 3: True,\n",
       " 4: {'Name': 'Sai', 'Phone': '123456', 'Place': 'AP'},\n",
       " 5: 6.79}"
      ]
     },
     "execution_count": 75,
     "metadata": {},
     "output_type": "execute_result"
    }
   ],
   "source": [
    "d5 = dict({1:[1,2,3,4], 2:(6,7,8,9), 3:True, 4:{'Name':\"Sai\",\"Phone\":\"123456\",\"Place\":\"AP\"},5:6.79})\n",
    "d5"
   ]
  },
  {
   "cell_type": "code",
   "execution_count": 76,
   "id": "7cce4599-12d5-47e8-b52a-36b9e69fb3f2",
   "metadata": {},
   "outputs": [
    {
     "ename": "KeyError",
     "evalue": "slice('A', True, None)",
     "output_type": "error",
     "traceback": [
      "\u001b[1;31m---------------------------------------------------------------------------\u001b[0m",
      "\u001b[1;31mKeyError\u001b[0m                                  Traceback (most recent call last)",
      "Cell \u001b[1;32mIn[76], line 1\u001b[0m\n\u001b[1;32m----> 1\u001b[0m d5[\u001b[38;5;241m3\u001b[39m:\u001b[38;5;28;01mTrue\u001b[39;00m] \u001b[38;5;241m=\u001b[39m d5[\u001b[38;5;124m\"\u001b[39m\u001b[38;5;124mA\u001b[39m\u001b[38;5;124m\"\u001b[39m:\u001b[38;5;28;01mTrue\u001b[39;00m]\n",
      "\u001b[1;31mKeyError\u001b[0m: slice('A', True, None)"
     ]
    }
   ],
   "source": [
    "d5[3:True] = d5[\"A\":True] # invalid"
   ]
  },
  {
   "cell_type": "code",
   "execution_count": 77,
   "id": "7e09676f-7bfb-44f4-862c-9fd08d8f1bce",
   "metadata": {},
   "outputs": [
    {
     "ename": "TypeError",
     "evalue": "unhashable type: 'dict'",
     "output_type": "error",
     "traceback": [
      "\u001b[1;31m---------------------------------------------------------------------------\u001b[0m",
      "\u001b[1;31mTypeError\u001b[0m                                 Traceback (most recent call last)",
      "Cell \u001b[1;32mIn[77], line 1\u001b[0m\n\u001b[1;32m----> 1\u001b[0m d5[{\u001b[38;5;241m3\u001b[39m:\u001b[38;5;28;01mTrue\u001b[39;00m}] \u001b[38;5;241m=\u001b[39m d5[{\u001b[38;5;124m\"\u001b[39m\u001b[38;5;124mA\u001b[39m\u001b[38;5;124m\"\u001b[39m:\u001b[38;5;28;01mTrue\u001b[39;00m}]\n",
      "\u001b[1;31mTypeError\u001b[0m: unhashable type: 'dict'"
     ]
    }
   ],
   "source": [
    "d5[{3:True}] = d5[{\"A\":True}] # invalid"
   ]
  },
  {
   "cell_type": "code",
   "execution_count": 78,
   "id": "20d46a2e-b067-4d59-8657-448099173844",
   "metadata": {},
   "outputs": [
    {
     "ename": "SyntaxError",
     "evalue": "cannot assign to function call here. Maybe you meant '==' instead of '='? (3965984556.py, line 1)",
     "output_type": "error",
     "traceback": [
      "\u001b[1;36m  Cell \u001b[1;32mIn[78], line 1\u001b[1;36m\u001b[0m\n\u001b[1;33m    d5({3:True}) = d5({\"A\":True}) # invalid\u001b[0m\n\u001b[1;37m    ^\u001b[0m\n\u001b[1;31mSyntaxError\u001b[0m\u001b[1;31m:\u001b[0m cannot assign to function call here. Maybe you meant '==' instead of '='?\n"
     ]
    }
   ],
   "source": [
    "d5({3:True}) = d5({\"A\":True}) # invalid\n",
    "d5"
   ]
  },
  {
   "cell_type": "markdown",
   "id": "65a66ae1-d585-4ff9-8d70-ed807dae6dac",
   "metadata": {},
   "source": [
    "#### Keys are changable only by re-defining the whole dict   "
   ]
  },
  {
   "cell_type": "code",
   "execution_count": 79,
   "id": "a06a7476-c833-4a5a-a72c-6907df70c1af",
   "metadata": {},
   "outputs": [
    {
     "data": {
      "text/plain": [
       "{1: [1, 2, 3, 4],\n",
       " 2: (6, 7, 8, 9),\n",
       " 'Amma': True,\n",
       " 4: {'Name': 'Sai', 'Phone': '123456', 'Place': 'AP'},\n",
       " 5: 6.79}"
      ]
     },
     "execution_count": 79,
     "metadata": {},
     "output_type": "execute_result"
    }
   ],
   "source": [
    "d5 = dict({1:[1,2,3,4], 2:(6,7,8,9), \"Amma\":True, 4:{'Name':\"Sai\",\"Phone\":\"123456\",\"Place\":\"AP\"},5:6.79})\n",
    "d5"
   ]
  },
  {
   "cell_type": "code",
   "execution_count": 80,
   "id": "a2a4732e-c51d-4537-8107-3f2ee94b30e1",
   "metadata": {},
   "outputs": [
    {
     "name": "stdout",
     "output_type": "stream",
     "text": [
      "<class 'dict'>\n"
     ]
    }
   ],
   "source": [
    "print(type(d5[4])) # here 4 is the key not index as dict is accessible thru keys"
   ]
  },
  {
   "cell_type": "markdown",
   "id": "f7bf02f4-1881-4b09-99b4-f8b004408943",
   "metadata": {},
   "source": [
    "#### we can also assign keys to a dict by defining them(keys) seperately"
   ]
  },
  {
   "cell_type": "code",
   "execution_count": 89,
   "id": "895d2bcb-ee3c-402b-9ded-f7c0169104ae",
   "metadata": {},
   "outputs": [],
   "source": [
    "d6 = {} # we should define an empty dict 1st and then define keys from the list of keys defined seperately "
   ]
  },
  {
   "cell_type": "code",
   "execution_count": 90,
   "id": "7ee8b7f6-c1be-4201-9f83-4f6a997fb4eb",
   "metadata": {},
   "outputs": [
    {
     "data": {
      "text/plain": [
       "{1: None, 2: None, 4: None, 5: None}"
      ]
     },
     "execution_count": 90,
     "metadata": {},
     "output_type": "execute_result"
    }
   ],
   "source": [
    "keys = (1,2,4,5)\n",
    "d6 = d6.fromkeys(keys)\n",
    "d6"
   ]
  },
  {
   "cell_type": "code",
   "execution_count": 101,
   "id": "1a197996-8012-4424-82b9-1c28df250fe8",
   "metadata": {},
   "outputs": [],
   "source": [
    "d7 = {} # we can also define value from the value that is defined seperately"
   ]
  },
  {
   "cell_type": "code",
   "execution_count": 102,
   "id": "8b92f9ca-eeae-4cb6-90ea-26bce1776cbc",
   "metadata": {},
   "outputs": [
    {
     "data": {
      "text/plain": [
       "{'a': 10, 'b': 10, 'c': 10, 'd': 10}"
      ]
     },
     "execution_count": 102,
     "metadata": {},
     "output_type": "execute_result"
    }
   ],
   "source": [
    "keys = ('a','b','c','d')\n",
    "value = (10)\n",
    "d7 = d7.fromkeys(keys,value)\n",
    "d7"
   ]
  },
  {
   "cell_type": "code",
   "execution_count": 115,
   "id": "53ce5cde-28c3-4a7d-a840-4da3d3656633",
   "metadata": {},
   "outputs": [
    {
     "data": {
      "text/plain": [
       "dict_keys(['a', 'b', 'c', 'd'])"
      ]
     },
     "execution_count": 115,
     "metadata": {},
     "output_type": "execute_result"
    }
   ],
   "source": [
    "d7.keys()"
   ]
  },
  {
   "cell_type": "code",
   "execution_count": 107,
   "id": "73e689ba-3b2b-44e6-90d3-d7ef532047cf",
   "metadata": {},
   "outputs": [],
   "source": [
    "d8 = {} # here each key will be defined with the list of values specified"
   ]
  },
  {
   "cell_type": "code",
   "execution_count": 108,
   "id": "09014653-72c2-42eb-8129-7bcdf3f10388",
   "metadata": {},
   "outputs": [
    {
     "data": {
      "text/plain": [
       "{'a': (10, 20, 30, 40, 50),\n",
       " 'b': (10, 20, 30, 40, 50),\n",
       " 'c': (10, 20, 30, 40, 50),\n",
       " 'd': (10, 20, 30, 40, 50)}"
      ]
     },
     "execution_count": 108,
     "metadata": {},
     "output_type": "execute_result"
    }
   ],
   "source": [
    "keys = ('a','b','c','d')\n",
    "value = (10,20,30,40,50)\n",
    "d8 = d8.fromkeys(keys,value)\n",
    "d8"
   ]
  },
  {
   "cell_type": "code",
   "execution_count": 109,
   "id": "6a445877-081f-409c-8eb3-fae33c58c560",
   "metadata": {},
   "outputs": [],
   "source": [
    "d9 = {}"
   ]
  },
  {
   "cell_type": "code",
   "execution_count": 113,
   "id": "b5aab006-4ea6-41d1-94fa-546da910feaa",
   "metadata": {},
   "outputs": [
    {
     "data": {
      "text/plain": [
       "{'b': (10, 20, 30, 40),\n",
       " 'a': (10, 20, 30, 40),\n",
       " 'c': (10, 20, 30, 40),\n",
       " 'd': (10, 20, 30, 40)}"
      ]
     },
     "execution_count": 113,
     "metadata": {},
     "output_type": "execute_result"
    }
   ],
   "source": [
    "keys = {'a','b','c','d'}\n",
    "value = (10,20,30,40)\n",
    "d9 = d9.fromkeys(keys,value)\n",
    "d9"
   ]
  },
  {
   "cell_type": "code",
   "execution_count": 112,
   "id": "0a802f89-57e1-4321-89b6-3b02fa145301",
   "metadata": {},
   "outputs": [
    {
     "ename": "AttributeError",
     "evalue": "'tuple' object has no attribute 'append'",
     "output_type": "error",
     "traceback": [
      "\u001b[1;31m---------------------------------------------------------------------------\u001b[0m",
      "\u001b[1;31mAttributeError\u001b[0m                            Traceback (most recent call last)",
      "Cell \u001b[1;32mIn[112], line 1\u001b[0m\n\u001b[1;32m----> 1\u001b[0m value\u001b[38;5;241m.\u001b[39mappend(\u001b[38;5;241m60\u001b[39m)\n\u001b[0;32m      2\u001b[0m d9\n",
      "\u001b[1;31mAttributeError\u001b[0m: 'tuple' object has no attribute 'append'"
     ]
    }
   ],
   "source": [
    "value.append(60) #invalid as the value type is tuple\n",
    "d9"
   ]
  },
  {
   "cell_type": "code",
   "execution_count": 116,
   "id": "720aee98-9f33-48fa-9d03-a1091b6f7cc9",
   "metadata": {},
   "outputs": [],
   "source": [
    "d10 = {}"
   ]
  },
  {
   "cell_type": "code",
   "execution_count": 121,
   "id": "5c128eaa-8015-4207-b7c2-07fcea7231d7",
   "metadata": {},
   "outputs": [
    {
     "data": {
      "text/plain": [
       "{1: ['a', ',b', 'k', 'd'],\n",
       " 2: ['a', ',b', 'k', 'd'],\n",
       " 3: ['a', ',b', 'k', 'd'],\n",
       " 4: ['a', ',b', 'k', 'd']}"
      ]
     },
     "execution_count": 121,
     "metadata": {},
     "output_type": "execute_result"
    }
   ],
   "source": [
    "keys = {1,2,3,4}\n",
    "values = ['a',',b','k','d']\n",
    "d10 = d10.fromkeys(keys,values)\n",
    "d10"
   ]
  },
  {
   "cell_type": "code",
   "execution_count": 122,
   "id": "2341d4bc-03ef-43ae-972f-a2db3d3ada67",
   "metadata": {},
   "outputs": [
    {
     "data": {
      "text/plain": [
       "{1: ['a', ',b', 'k', 'd', 's'],\n",
       " 2: ['a', ',b', 'k', 'd', 's'],\n",
       " 3: ['a', ',b', 'k', 'd', 's'],\n",
       " 4: ['a', ',b', 'k', 'd', 's']}"
      ]
     },
     "execution_count": 122,
     "metadata": {},
     "output_type": "execute_result"
    }
   ],
   "source": [
    "values.append('s') # char s will be appended at last as List will allow appending elements(List is mutable)\n",
    "d10"
   ]
  },
  {
   "cell_type": "markdown",
   "id": "a8390522-5033-4c22-8e12-b5933c6b28e2",
   "metadata": {},
   "source": [
    "#### Accessing the dict items"
   ]
  },
  {
   "cell_type": "code",
   "execution_count": 123,
   "id": "f8632665-ded3-44d5-8165-81eb299ac8d1",
   "metadata": {},
   "outputs": [
    {
     "data": {
      "text/plain": [
       "{1: 1, 2: 'Amma', 3: 10, 4: 60}"
      ]
     },
     "execution_count": 123,
     "metadata": {},
     "output_type": "execute_result"
    }
   ],
   "source": [
    "d3"
   ]
  },
  {
   "cell_type": "code",
   "execution_count": 126,
   "id": "c93cad2e-53bc-4ad4-995f-b9270e17e5a6",
   "metadata": {},
   "outputs": [
    {
     "data": {
      "text/plain": [
       "'Amma'"
      ]
     },
     "execution_count": 126,
     "metadata": {},
     "output_type": "execute_result"
    }
   ],
   "source": [
    "d3[2] # accessing by specifying the key"
   ]
  },
  {
   "cell_type": "code",
   "execution_count": 127,
   "id": "0f804780-7605-458c-a6e1-dd4f60a7ce0c",
   "metadata": {},
   "outputs": [
    {
     "data": {
      "text/plain": [
       "60"
      ]
     },
     "execution_count": 127,
     "metadata": {},
     "output_type": "execute_result"
    }
   ],
   "source": [
    "d3[4]"
   ]
  },
  {
   "cell_type": "code",
   "execution_count": 128,
   "id": "36132e17-5ef8-444f-a5b8-802e07bb05c4",
   "metadata": {},
   "outputs": [
    {
     "data": {
      "text/plain": [
       "10"
      ]
     },
     "execution_count": 128,
     "metadata": {},
     "output_type": "execute_result"
    }
   ],
   "source": [
    "d3.get(3) # accessing the dict item by get() methos"
   ]
  },
  {
   "cell_type": "code",
   "execution_count": 135,
   "id": "2e6b5fe3-d462-487c-9cad-40e0625329b2",
   "metadata": {},
   "outputs": [
    {
     "data": {
      "text/plain": [
       "{'Name': 'SaiDivya',\n",
       " 'ID': 743219,\n",
       " 'DOB': 1992,\n",
       " 'Job': 'Data Scientist at Google'}"
      ]
     },
     "execution_count": 135,
     "metadata": {},
     "output_type": "execute_result"
    }
   ],
   "source": [
    "mydict = {\"Name\":\"SaiDivya\", \"ID\":743219, \"DOB\":1992, 'Job': \"Data Scientist at Google\"}\n",
    "mydict"
   ]
  },
  {
   "cell_type": "code",
   "execution_count": 136,
   "id": "88f01db5-1492-49d5-b3ff-84caf78e0f94",
   "metadata": {},
   "outputs": [
    {
     "data": {
      "text/plain": [
       "'SaiDivya'"
      ]
     },
     "execution_count": 136,
     "metadata": {},
     "output_type": "execute_result"
    }
   ],
   "source": [
    "mydict['Name']"
   ]
  },
  {
   "cell_type": "code",
   "execution_count": 137,
   "id": "f7ae9a4e-c332-49c6-962f-9096119220ae",
   "metadata": {},
   "outputs": [
    {
     "data": {
      "text/plain": [
       "'Data Scientist at Google'"
      ]
     },
     "execution_count": 137,
     "metadata": {},
     "output_type": "execute_result"
    }
   ],
   "source": [
    "mydict.get('Job')"
   ]
  },
  {
   "cell_type": "markdown",
   "id": "27c3d442-8a9b-4ffd-9fa6-b931651bc68b",
   "metadata": {},
   "source": [
    "#### add, remove and change items "
   ]
  },
  {
   "cell_type": "code",
   "execution_count": 138,
   "id": "9b2a21bc-29e8-478f-b7e2-b63ae36c07c4",
   "metadata": {},
   "outputs": [
    {
     "data": {
      "text/plain": [
       "{'Name': 'SaiDivya',\n",
       " 'ID': 743219,\n",
       " 'DOB': 1992,\n",
       " 'Job': 'Data Scientist at Google'}"
      ]
     },
     "execution_count": 138,
     "metadata": {},
     "output_type": "execute_result"
    }
   ],
   "source": [
    "mydict"
   ]
  },
  {
   "cell_type": "code",
   "execution_count": 151,
   "id": "49a30085-ce1d-4fbb-aa80-184e440313d9",
   "metadata": {},
   "outputs": [
    {
     "data": {
      "text/plain": [
       "{'Name': 'SaiDivya',\n",
       " 'ID': 743219,\n",
       " 'DOB': 1992,\n",
       " 'Job': 'Data Scientist at Google',\n",
       " 'Place': 'USA'}"
      ]
     },
     "execution_count": 151,
     "metadata": {},
     "output_type": "execute_result"
    }
   ],
   "source": [
    "mydict = {\"Name\":\"SaiDivya\", \"ID\":743219, \"DOB\":1992, 'Job': \"Data Scientist at Google\",\"Place\":\"USA\"} # adding the items\n",
    "mydict"
   ]
  },
  {
   "cell_type": "code",
   "execution_count": 152,
   "id": "bc2aa8d5-b4a5-497a-b72c-d258d8360141",
   "metadata": {},
   "outputs": [
    {
     "data": {
      "text/plain": [
       "{'Name': 'SaiDivya',\n",
       " 'ID': 743219,\n",
       " 'DOB': 'March 15',\n",
       " 'Job': 'Data Scientist at Microsoft',\n",
       " 'Place': 'USA'}"
      ]
     },
     "execution_count": 152,
     "metadata": {},
     "output_type": "execute_result"
    }
   ],
   "source": [
    "mydict = {\"Name\":\"SaiDivya\", 'ID':743219, \"DOB\": \"March 15\", 'Job':\"Data Scientist at Microsoft\", \"Place\": \"USA\"} # changing the values dynamically\n",
    "mydict"
   ]
  },
  {
   "cell_type": "code",
   "execution_count": 199,
   "id": "340df762-2f14-416b-9654-8cc8b1d3304b",
   "metadata": {},
   "outputs": [
    {
     "data": {
      "text/plain": [
       "{'Name': 'SaiRam', 'ID': 1234, 'Place': 'USA'}"
      ]
     },
     "execution_count": 199,
     "metadata": {},
     "output_type": "execute_result"
    }
   ],
   "source": [
    "mydict1 = {\"Name\":\"SaiRam\", 'ID':1234, \"Place\":\"USA\"} # creating a new dict\n",
    "mydict1"
   ]
  },
  {
   "cell_type": "code",
   "execution_count": 200,
   "id": "94e9f748-863d-40a7-9de9-245e66a96bb4",
   "metadata": {},
   "outputs": [],
   "source": [
    "mydict1['Job'] = 'AI Engineer' # adding a new key and value "
   ]
  },
  {
   "cell_type": "code",
   "execution_count": 201,
   "id": "5e9ec4ff-4cf3-472e-886c-b8a0ae90c10d",
   "metadata": {},
   "outputs": [
    {
     "data": {
      "text/plain": [
       "{'Name': 'SaiRam', 'ID': 1234, 'Place': 'USA', 'Job': 'AI Engineer'}"
      ]
     },
     "execution_count": 201,
     "metadata": {},
     "output_type": "execute_result"
    }
   ],
   "source": [
    "mydict1"
   ]
  },
  {
   "cell_type": "code",
   "execution_count": 202,
   "id": "2bb3ef25-b568-4d5e-9c4e-dde375ab2be5",
   "metadata": {},
   "outputs": [
    {
     "data": {
      "text/plain": [
       "{'Name': 'SaiRam',\n",
       " 'ID': 1234,\n",
       " 'Place': 'USA',\n",
       " 'Job': 'AI Engineer',\n",
       " 'DOB': 'March 15'}"
      ]
     },
     "execution_count": 202,
     "metadata": {},
     "output_type": "execute_result"
    }
   ],
   "source": [
    "dict1 = {\"DOB\":\"March 15\"} # update() function will create a new key-value if the specified key doesn't exist in the dict\n",
    "mydict1.update(dict1)\n",
    "mydict1"
   ]
  },
  {
   "cell_type": "code",
   "execution_count": 203,
   "id": "c711d0a1-5276-43cb-9746-b33e0ff1c368",
   "metadata": {},
   "outputs": [
    {
     "data": {
      "text/plain": [
       "{'Name': 'SaiRam',\n",
       " 'ID': 1234,\n",
       " 'Place': 'USA',\n",
       " 'Job': 'AI Engineer',\n",
       " 'DOB': 'Oct 18'}"
      ]
     },
     "execution_count": 203,
     "metadata": {},
     "output_type": "execute_result"
    }
   ],
   "source": [
    "dict1 = {\"DOB\":\"Oct 18\"} # if the specified key exist in the dict, then update() function will update the value \n",
    "mydict1.update(dict1)\n",
    "mydict1"
   ]
  },
  {
   "cell_type": "code",
   "execution_count": 204,
   "id": "18ae853d-bda5-42dc-bae4-97d85bb71e6f",
   "metadata": {},
   "outputs": [
    {
     "data": {
      "text/plain": [
       "'Oct 18'"
      ]
     },
     "execution_count": 204,
     "metadata": {},
     "output_type": "execute_result"
    }
   ],
   "source": [
    "mydict1.pop(\"DOB\") # pop() function will remove the specified key from the dict"
   ]
  },
  {
   "cell_type": "code",
   "execution_count": 205,
   "id": "c0a2da79-9e19-4cb2-b912-79dc3b557fc4",
   "metadata": {},
   "outputs": [
    {
     "data": {
      "text/plain": [
       "{'Name': 'SaiRam', 'ID': 1234, 'Place': 'USA', 'Job': 'AI Engineer'}"
      ]
     },
     "execution_count": 205,
     "metadata": {},
     "output_type": "execute_result"
    }
   ],
   "source": [
    "mydict1"
   ]
  },
  {
   "cell_type": "code",
   "execution_count": 206,
   "id": "057840c0-25b7-4f6e-9676-33932edf8059",
   "metadata": {},
   "outputs": [
    {
     "data": {
      "text/plain": [
       "('Job', 'AI Engineer')"
      ]
     },
     "execution_count": 206,
     "metadata": {},
     "output_type": "execute_result"
    }
   ],
   "source": [
    "mydict1.popitem() # popitem() function will remove the last item in the dict, it uses LIFO(Last In First Out)"
   ]
  },
  {
   "cell_type": "code",
   "execution_count": 207,
   "id": "63cd16f7-24dd-473e-a724-7f32fe35b01b",
   "metadata": {},
   "outputs": [
    {
     "data": {
      "text/plain": [
       "{'Name': 'SaiRam', 'ID': 1234, 'Place': 'USA'}"
      ]
     },
     "execution_count": 207,
     "metadata": {},
     "output_type": "execute_result"
    }
   ],
   "source": [
    "mydict1"
   ]
  },
  {
   "cell_type": "code",
   "execution_count": 208,
   "id": "4b58e987-4b9a-48c3-b620-64137cfecb88",
   "metadata": {},
   "outputs": [
    {
     "data": {
      "text/plain": [
       "('Place', 'USA')"
      ]
     },
     "execution_count": 208,
     "metadata": {},
     "output_type": "execute_result"
    }
   ],
   "source": [
    "mydict1.popitem()"
   ]
  },
  {
   "cell_type": "code",
   "execution_count": 209,
   "id": "7eabce1e-a650-4c06-bb2c-1f59893cd185",
   "metadata": {},
   "outputs": [
    {
     "data": {
      "text/plain": [
       "{'Name': 'SaiRam', 'ID': 1234}"
      ]
     },
     "execution_count": 209,
     "metadata": {},
     "output_type": "execute_result"
    }
   ],
   "source": [
    "mydict1"
   ]
  },
  {
   "cell_type": "code",
   "execution_count": 210,
   "id": "1a63ad61-2df3-41cc-9c37-38af66d77710",
   "metadata": {},
   "outputs": [
    {
     "data": {
      "text/plain": [
       "{'Name': 'SaiRam'}"
      ]
     },
     "execution_count": 210,
     "metadata": {},
     "output_type": "execute_result"
    }
   ],
   "source": [
    "del[mydict1['ID']] # deletes the specified key from the dict\n",
    "mydict1"
   ]
  },
  {
   "cell_type": "code",
   "execution_count": 211,
   "id": "cdff4e8f-642b-4f1b-89a0-999e46fbfd5f",
   "metadata": {},
   "outputs": [],
   "source": [
    "del mydict1 # deletes the entire dict object from memory"
   ]
  },
  {
   "cell_type": "code",
   "execution_count": 212,
   "id": "d9ff5db9-96f0-4a3c-9655-c305dbc1e539",
   "metadata": {},
   "outputs": [
    {
     "ename": "NameError",
     "evalue": "name 'mydict1' is not defined",
     "output_type": "error",
     "traceback": [
      "\u001b[1;31m---------------------------------------------------------------------------\u001b[0m",
      "\u001b[1;31mNameError\u001b[0m                                 Traceback (most recent call last)",
      "Cell \u001b[1;32mIn[212], line 1\u001b[0m\n\u001b[1;32m----> 1\u001b[0m mydict1\n",
      "\u001b[1;31mNameError\u001b[0m: name 'mydict1' is not defined"
     ]
    }
   ],
   "source": [
    "mydict1"
   ]
  },
  {
   "cell_type": "code",
   "execution_count": 213,
   "id": "37812af9-3cd8-465e-9ae0-409a48d08f2c",
   "metadata": {},
   "outputs": [
    {
     "data": {
      "text/plain": [
       "{'Name': 'SaiDivya',\n",
       " 'ID': 743219,\n",
       " 'DOB': 'March 15',\n",
       " 'Job': 'Data Scientist at Microsoft',\n",
       " 'Place': 'USA'}"
      ]
     },
     "execution_count": 213,
     "metadata": {},
     "output_type": "execute_result"
    }
   ],
   "source": [
    "mydict"
   ]
  },
  {
   "cell_type": "code",
   "execution_count": 214,
   "id": "88f87866-2c9a-4d08-9ed0-dd926228146b",
   "metadata": {},
   "outputs": [],
   "source": [
    "mydict1 = mydict # creates a new reference mydict1 and points to the same memory address of mydict"
   ]
  },
  {
   "cell_type": "code",
   "execution_count": 215,
   "id": "5dea61aa-97b7-4fc4-8860-cb750159f7c8",
   "metadata": {},
   "outputs": [
    {
     "data": {
      "text/plain": [
       "{'Name': 'SaiDivya',\n",
       " 'ID': 743219,\n",
       " 'DOB': 'March 15',\n",
       " 'Job': 'Data Scientist at Microsoft',\n",
       " 'Place': 'USA'}"
      ]
     },
     "execution_count": 215,
     "metadata": {},
     "output_type": "execute_result"
    }
   ],
   "source": [
    "mydict1"
   ]
  },
  {
   "cell_type": "code",
   "execution_count": 219,
   "id": "7d2db284-ef85-4a04-b6ce-9f59e503a475",
   "metadata": {},
   "outputs": [
    {
     "name": "stdout",
     "output_type": "stream",
     "text": [
      "3026339972352\n",
      "3026339972352\n"
     ]
    }
   ],
   "source": [
    "print(id(mydict)) # The memory address both mydict and mydict are same\n",
    "print(id(mydict1))"
   ]
  },
  {
   "cell_type": "code",
   "execution_count": 220,
   "id": "e6989e6d-47be-4dee-8dae-39bffb2f8c3c",
   "metadata": {},
   "outputs": [
    {
     "name": "stdout",
     "output_type": "stream",
     "text": [
      "3026339972352\n",
      "3026338174464\n"
     ]
    }
   ],
   "source": [
    "mydict2 = mydict.copy() # creates a new copy of the dict and new address space will be defined\n",
    "\n",
    "print(id(mydict))\n",
    "print(id(mydict2))"
   ]
  },
  {
   "cell_type": "code",
   "execution_count": 222,
   "id": "7a6c5e2c-7598-434a-be22-7397264756d7",
   "metadata": {},
   "outputs": [
    {
     "data": {
      "text/plain": [
       "(3026339972352, 3026338174464)"
      ]
     },
     "execution_count": 222,
     "metadata": {},
     "output_type": "execute_result"
    }
   ],
   "source": [
    "id(mydict1), id(mydict2) # the address space will be different for mydict1 and mydict2"
   ]
  },
  {
   "cell_type": "code",
   "execution_count": 224,
   "id": "83215a23-1b18-445c-9f58-ad5cee3da52c",
   "metadata": {},
   "outputs": [
    {
     "data": {
      "text/plain": [
       "{'Name': 'SaiDivya',\n",
       " 'ID': 743219,\n",
       " 'DOB': 'Oct 18',\n",
       " 'Job': 'Data Scientist at Microsoft',\n",
       " 'Place': 'USA'}"
      ]
     },
     "execution_count": 224,
     "metadata": {},
     "output_type": "execute_result"
    }
   ],
   "source": [
    "mydict[\"DOB\"] = \"Oct 18\"\n",
    "mydict"
   ]
  },
  {
   "cell_type": "code",
   "execution_count": 225,
   "id": "0d6ed559-bf68-49d2-b530-54eafe886c99",
   "metadata": {},
   "outputs": [
    {
     "data": {
      "text/plain": [
       "{'Name': 'SaiDivya',\n",
       " 'ID': 743219,\n",
       " 'DOB': 'Oct 18',\n",
       " 'Job': 'Data Scientist at Microsoft',\n",
       " 'Place': 'USA'}"
      ]
     },
     "execution_count": 225,
     "metadata": {},
     "output_type": "execute_result"
    }
   ],
   "source": [
    "mydict1 # the DOB value of mydict1 will also be changed as both mydict and mydict1 shares the same address space in memory"
   ]
  },
  {
   "cell_type": "code",
   "execution_count": 227,
   "id": "53041d2b-0248-4e23-8ca7-167062946f7f",
   "metadata": {},
   "outputs": [
    {
     "data": {
      "text/plain": [
       "{'Name': 'SaiDivya',\n",
       " 'ID': 743219,\n",
       " 'DOB': 'March 15',\n",
       " 'Job': 'Data Scientist at Microsoft',\n",
       " 'Place': 'USA'}"
      ]
     },
     "execution_count": 227,
     "metadata": {},
     "output_type": "execute_result"
    }
   ],
   "source": [
    "mydict2 # the DOB value of mydict2 won't get changed as both mydict2 has different address space in memory"
   ]
  },
  {
   "cell_type": "markdown",
   "id": "c211c9b6-22ea-4e6e-a428-c1840af9b88b",
   "metadata": {},
   "source": [
    "#### Loop through dict"
   ]
  },
  {
   "cell_type": "code",
   "execution_count": 229,
   "id": "345c8100-f6c1-4e30-8694-c05a13270f1f",
   "metadata": {},
   "outputs": [
    {
     "name": "stdout",
     "output_type": "stream",
     "text": [
      "Name\n",
      "ID\n",
      "DOB\n",
      "Job\n",
      "Place\n"
     ]
    }
   ],
   "source": [
    "for i in mydict: # only returns the keys as i holds the keys in each iteration\n",
    "    print(i)"
   ]
  },
  {
   "cell_type": "code",
   "execution_count": 235,
   "id": "cdf3acd9-4852-4d0c-927c-8ecf26128c5f",
   "metadata": {},
   "outputs": [
    {
     "name": "stdout",
     "output_type": "stream",
     "text": [
      "Name : SaiDivya\n",
      "ID : 743219\n",
      "DOB : Oct 18\n",
      "Job : Data Scientist at Microsoft\n",
      "Place : USA\n"
     ]
    }
   ],
   "source": [
    "for i in mydict1: # prints both keys and corresponding values\n",
    "    print(i, \":\", mydict1[i])"
   ]
  },
  {
   "cell_type": "code",
   "execution_count": 236,
   "id": "aba3c47d-c73a-445d-9229-12172630a5fb",
   "metadata": {},
   "outputs": [
    {
     "name": "stdout",
     "output_type": "stream",
     "text": [
      "SaiDivya\n",
      "743219\n",
      "Oct 18\n",
      "Data Scientist at Microsoft\n",
      "USA\n"
     ]
    }
   ],
   "source": [
    "for i in mydict: # prints only the values \n",
    "    print(mydict[i])"
   ]
  },
  {
   "cell_type": "markdown",
   "id": "f1ae2eef-db46-4a89-a805-cd3486433cfd",
   "metadata": {},
   "source": [
    "#### Dictionary Membership"
   ]
  },
  {
   "cell_type": "code",
   "execution_count": 237,
   "id": "6c90c038-b23e-488e-81de-8a6fd42b36c3",
   "metadata": {},
   "outputs": [
    {
     "data": {
      "text/plain": [
       "{'Name': 'SaiDivya',\n",
       " 'ID': 743219,\n",
       " 'DOB': 'Oct 18',\n",
       " 'Job': 'Data Scientist at Microsoft',\n",
       " 'Place': 'USA'}"
      ]
     },
     "execution_count": 237,
     "metadata": {},
     "output_type": "execute_result"
    }
   ],
   "source": [
    "mydict1"
   ]
  },
  {
   "cell_type": "code",
   "execution_count": 240,
   "id": "4efa0129-7fa6-4477-8660-7e7b8f93b48a",
   "metadata": {},
   "outputs": [
    {
     "data": {
      "text/plain": [
       "False"
      ]
     },
     "execution_count": 240,
     "metadata": {},
     "output_type": "execute_result"
    }
   ],
   "source": [
    "'SaiDivya' in mydict1 # returns false as it will check the availability of keys"
   ]
  },
  {
   "cell_type": "code",
   "execution_count": 241,
   "id": "658d7922-ff83-4dd7-abe5-44f9381602d5",
   "metadata": {},
   "outputs": [
    {
     "data": {
      "text/plain": [
       "True"
      ]
     },
     "execution_count": 241,
     "metadata": {},
     "output_type": "execute_result"
    }
   ],
   "source": [
    "'Name' in mydict1 # returns as mydict has the key \"Name\""
   ]
  },
  {
   "cell_type": "code",
   "execution_count": 242,
   "id": "4ce50229-ae70-452c-9665-99ecb168fdac",
   "metadata": {},
   "outputs": [
    {
     "data": {
      "text/plain": [
       "False"
      ]
     },
     "execution_count": 242,
     "metadata": {},
     "output_type": "execute_result"
    }
   ],
   "source": [
    "3 in mydict1"
   ]
  },
  {
   "cell_type": "markdown",
   "id": "df24b6d1-4005-4ea5-9277-a6f2e642494d",
   "metadata": {},
   "source": [
    "#### all() and any()"
   ]
  },
  {
   "cell_type": "code",
   "execution_count": 252,
   "id": "a9401233-aa0e-49f9-b18c-bcb8124522b0",
   "metadata": {},
   "outputs": [
    {
     "data": {
      "text/plain": [
       "{'Name': 'SaiDivya',\n",
       " 'ID': 743219,\n",
       " 'DOB': 'Oct 18',\n",
       " 'Job': 'Data Scientist at Microsoft',\n",
       " 'Place': 'USA',\n",
       " 4: False,\n",
       " False: 'Yes'}"
      ]
     },
     "execution_count": 252,
     "metadata": {},
     "output_type": "execute_result"
    }
   ],
   "source": [
    "mydict1"
   ]
  },
  {
   "cell_type": "code",
   "execution_count": 243,
   "id": "88f5b2b9-1c20-4838-9231-ca53ba28f3b9",
   "metadata": {},
   "outputs": [
    {
     "data": {
      "text/plain": [
       "True"
      ]
     },
     "execution_count": 243,
     "metadata": {},
     "output_type": "execute_result"
    }
   ],
   "source": [
    "all(mydict1) # returns True as none of the keys is False"
   ]
  },
  {
   "cell_type": "code",
   "execution_count": 244,
   "id": "4a022261-3c43-41b6-98a5-762d983f2173",
   "metadata": {},
   "outputs": [
    {
     "data": {
      "text/plain": [
       "True"
      ]
     },
     "execution_count": 244,
     "metadata": {},
     "output_type": "execute_result"
    }
   ],
   "source": [
    "any(mydict1)"
   ]
  },
  {
   "cell_type": "code",
   "execution_count": 246,
   "id": "fb22dd60-5e6a-4d03-af9d-db8daea8a07e",
   "metadata": {},
   "outputs": [
    {
     "data": {
      "text/plain": [
       "{'Name': 'SaiDivya',\n",
       " 'ID': 743219,\n",
       " 'DOB': 'Oct 18',\n",
       " 'Job': 'Data Scientist at Microsoft',\n",
       " 'Place': 'USA',\n",
       " 4: False}"
      ]
     },
     "execution_count": 246,
     "metadata": {},
     "output_type": "execute_result"
    }
   ],
   "source": [
    "mydict1.update({4:False})\n",
    "mydict1"
   ]
  },
  {
   "cell_type": "code",
   "execution_count": 247,
   "id": "cfd29719-fcb6-4cbb-8049-ca5b5f493c3e",
   "metadata": {},
   "outputs": [
    {
     "data": {
      "text/plain": [
       "True"
      ]
     },
     "execution_count": 247,
     "metadata": {},
     "output_type": "execute_result"
    }
   ],
   "source": [
    "all(mydict1)  # returns True as none of the keys is False(only verifies the keys but not values) "
   ]
  },
  {
   "cell_type": "code",
   "execution_count": 248,
   "id": "fabe7e92-af12-4851-87ad-b6ef6e4f604b",
   "metadata": {},
   "outputs": [
    {
     "data": {
      "text/plain": [
       "True"
      ]
     },
     "execution_count": 248,
     "metadata": {},
     "output_type": "execute_result"
    }
   ],
   "source": [
    "any(mydict1)"
   ]
  },
  {
   "cell_type": "code",
   "execution_count": 249,
   "id": "dd603fe2-b053-4b74-adf8-35655009d44a",
   "metadata": {},
   "outputs": [
    {
     "data": {
      "text/plain": [
       "{'Name': 'SaiDivya',\n",
       " 'ID': 743219,\n",
       " 'DOB': 'Oct 18',\n",
       " 'Job': 'Data Scientist at Microsoft',\n",
       " 'Place': 'USA',\n",
       " 4: False,\n",
       " False: 'Yes'}"
      ]
     },
     "execution_count": 249,
     "metadata": {},
     "output_type": "execute_result"
    }
   ],
   "source": [
    "mydict1.update({False:\"Yes\"})\n",
    "mydict1"
   ]
  },
  {
   "cell_type": "code",
   "execution_count": 250,
   "id": "a1a21c13-6e2a-4e8d-a5b9-4184d2cb0a77",
   "metadata": {},
   "outputs": [
    {
     "data": {
      "text/plain": [
       "True"
      ]
     },
     "execution_count": 250,
     "metadata": {},
     "output_type": "execute_result"
    }
   ],
   "source": [
    "any(mydict1)"
   ]
  },
  {
   "cell_type": "code",
   "execution_count": 253,
   "id": "14c717bb-4082-46e0-bc87-13d5bd53dea8",
   "metadata": {},
   "outputs": [
    {
     "data": {
      "text/plain": [
       "False"
      ]
     },
     "execution_count": 253,
     "metadata": {},
     "output_type": "execute_result"
    }
   ],
   "source": [
    "all(mydict1)  # returns False as one of the keys is False"
   ]
  },
  {
   "cell_type": "markdown",
   "id": "20399a25-b3b2-4b4f-b52c-bb42a7944ef1",
   "metadata": {},
   "source": [
    "# Range"
   ]
  },
  {
   "cell_type": "code",
   "execution_count": 7,
   "id": "5023cb5a-3dbf-4fa1-8cb7-75381fbc0cd9",
   "metadata": {},
   "outputs": [
    {
     "data": {
      "text/plain": [
       "range(0, 10)"
      ]
     },
     "execution_count": 7,
     "metadata": {},
     "output_type": "execute_result"
    }
   ],
   "source": [
    "range(10) # returns a range of integers from 0 till n-1"
   ]
  },
  {
   "cell_type": "code",
   "execution_count": 8,
   "id": "0402639d-370a-418c-94cd-d80750a2e4a3",
   "metadata": {},
   "outputs": [
    {
     "data": {
      "text/plain": [
       "range(0, 15)"
      ]
     },
     "execution_count": 8,
     "metadata": {},
     "output_type": "execute_result"
    }
   ],
   "source": [
    "r = range(15)\n",
    "r"
   ]
  },
  {
   "cell_type": "code",
   "execution_count": 9,
   "id": "cadd4521-c7cf-4932-9123-0ef8c85ee955",
   "metadata": {},
   "outputs": [
    {
     "data": {
      "text/plain": [
       "[0, 1, 2, 3, 4, 5, 6, 7, 8, 9, 10, 11, 12, 13, 14]"
      ]
     },
     "execution_count": 9,
     "metadata": {},
     "output_type": "execute_result"
    }
   ],
   "source": [
    "list(r) # returns from 0 till 14 (n-1)"
   ]
  },
  {
   "cell_type": "code",
   "execution_count": 10,
   "id": "72bb46cd-9406-4315-a39a-fb138bf308aa",
   "metadata": {},
   "outputs": [
    {
     "data": {
      "text/plain": [
       "range(10, 20)"
      ]
     },
     "execution_count": 10,
     "metadata": {},
     "output_type": "execute_result"
    }
   ],
   "source": [
    "r1 = range(10, 20) # returns a set of integers from i till j-1 (here 10 till 19)\n",
    "r1"
   ]
  },
  {
   "cell_type": "code",
   "execution_count": 5,
   "id": "3c2f4f5d-3a7b-4182-81c0-2b79c53fdad7",
   "metadata": {},
   "outputs": [
    {
     "data": {
      "text/plain": [
       "[10, 11, 12, 13, 14, 15, 16, 17, 18, 19]"
      ]
     },
     "execution_count": 5,
     "metadata": {},
     "output_type": "execute_result"
    }
   ],
   "source": [
    "list(r1)"
   ]
  },
  {
   "cell_type": "code",
   "execution_count": 11,
   "id": "c805ed33-da1b-4c42-8347-0253df146ac0",
   "metadata": {},
   "outputs": [
    {
     "data": {
      "text/plain": [
       "[25, 26, 27, 28, 29, 30, 31, 32, 33, 34, 35, 36, 37, 38, 39]"
      ]
     },
     "execution_count": 11,
     "metadata": {},
     "output_type": "execute_result"
    }
   ],
   "source": [
    "list(range(25,40)) # returns from 25 till 39"
   ]
  },
  {
   "cell_type": "code",
   "execution_count": null,
   "id": "422cd150-0d8b-4eb6-9160-f85a6d5a2eab",
   "metadata": {},
   "outputs": [],
   "source": []
  }
 ],
 "metadata": {
  "kernelspec": {
   "display_name": "Python 3 (ipykernel)",
   "language": "python",
   "name": "python3"
  },
  "language_info": {
   "codemirror_mode": {
    "name": "ipython",
    "version": 3
   },
   "file_extension": ".py",
   "mimetype": "text/x-python",
   "name": "python",
   "nbconvert_exporter": "python",
   "pygments_lexer": "ipython3",
   "version": "3.12.7"
  }
 },
 "nbformat": 4,
 "nbformat_minor": 5
}
